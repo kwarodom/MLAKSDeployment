{
 "cells": [
  {
   "cell_type": "markdown",
   "metadata": {},
   "source": [
    "# Develop Model Driver"
   ]
  },
  {
   "cell_type": "markdown",
   "metadata": {},
   "source": [
    "In this notebook, we will develop the API that will call our model. This module initializes the model, transforms the input so that it is in the appropriate format and defines the scoring method that will produce the predictions. The API will expect the input to be in JSON format. Once a request is received, the API will use the request body to score the question text. There are two main functions in the API. The first function loads the model and returns a scoring function. The second function process the question text and uses the first function to score it."
   ]
  },
  {
   "cell_type": "code",
   "execution_count": 2,
   "metadata": {},
   "outputs": [],
   "source": [
    "import pandas as pd\n",
    "import logging\n",
    "import json\n",
    "from utilities import text_to_json"
   ]
  },
  {
   "cell_type": "markdown",
   "metadata": {},
   "source": [
    "We use the writefile magic to write the contents of the below cell to driver.py which includes the driver methods."
   ]
  },
  {
   "cell_type": "code",
   "execution_count": 3,
   "metadata": {},
   "outputs": [
    {
     "name": "stdout",
     "output_type": "stream",
     "text": [
      "Overwriting driver.py\n"
     ]
    }
   ],
   "source": [
    "%%writefile driver.py\n",
    "\n",
    "import lightgbm as lgb\n",
    "import timeit as t\n",
    "import logging\n",
    "from duplicate_model import DuplicateModel\n",
    "\n",
    "model_path = 'model.pkl'\n",
    "questions_path = 'questions.tsv'\n",
    "logger = logging.getLogger(\"model_driver\")\n",
    "\n",
    "def create_scoring_func():\n",
    "    \"\"\" Initialize Model Object \n",
    "    \"\"\"   \n",
    "    start = t.default_timer()\n",
    "    DM = DuplicateModel(model_path, questions_path)\n",
    "    end = t.default_timer()\n",
    "    \n",
    "    loadTimeMsg = \"Model object loading time: {0} ms\".format(round((end-start)*1000, 2))\n",
    "    logger.info(loadTimeMsg)\n",
    "    \n",
    "    def call_model(text):\n",
    "        preds = DM.score(text)  \n",
    "        return preds\n",
    "    \n",
    "    return call_model\n",
    "\n",
    "def get_model_api():\n",
    "    logger = logging.getLogger(\"model_driver\")\n",
    "    scoring_func = create_scoring_func()\n",
    "    \n",
    "    def process_and_score(inputString):\n",
    "        \"\"\" Classify the input using the loaded model\n",
    "        \"\"\"\n",
    "        start = t.default_timer()\n",
    "        responses = scoring_func(inputString)\n",
    "        end = t.default_timer()\n",
    "        \n",
    "        logger.info(\"Predictions: {0}\".format(responses))\n",
    "        logger.info(\"Predictions took {0} ms\".format(round((end-start)*1000, 2)))\n",
    "        return (responses, \"Computed in {0} ms\".format(round((end-start)*1000, 2)))\n",
    "    return process_and_score\n",
    "\n",
    "def version():\n",
    "    return lgb.__version__"
   ]
  },
  {
   "cell_type": "markdown",
   "metadata": {},
   "source": [
    "Let's test the module."
   ]
  },
  {
   "cell_type": "code",
   "execution_count": 4,
   "metadata": {},
   "outputs": [],
   "source": [
    "logging.basicConfig(level=logging.DEBUG)"
   ]
  },
  {
   "cell_type": "markdown",
   "metadata": {},
   "source": [
    "We run the driver.py which will bring the imports and functions into the context of the notebook."
   ]
  },
  {
   "cell_type": "code",
   "execution_count": 5,
   "metadata": {},
   "outputs": [
    {
     "name": "stderr",
     "output_type": "stream",
     "text": [
      "/anaconda/envs/MLAKSDeployment/lib/python3.5/importlib/_bootstrap.py:222: RuntimeWarning: numpy.dtype size changed, may indicate binary incompatibility. Expected 96, got 88\n",
      "  return f(*args, **kwds)\n",
      "/anaconda/envs/MLAKSDeployment/lib/python3.5/importlib/_bootstrap.py:222: RuntimeWarning: numpy.dtype size changed, may indicate binary incompatibility. Expected 96, got 88\n",
      "  return f(*args, **kwds)\n",
      "/anaconda/envs/MLAKSDeployment/lib/python3.5/importlib/_bootstrap.py:222: RuntimeWarning: numpy.dtype size changed, may indicate binary incompatibility. Expected 96, got 88\n",
      "  return f(*args, **kwds)\n",
      "/anaconda/envs/MLAKSDeployment/lib/python3.5/importlib/_bootstrap.py:222: RuntimeWarning: numpy.dtype size changed, may indicate binary incompatibility. Expected 96, got 88\n",
      "  return f(*args, **kwds)\n",
      "/anaconda/envs/MLAKSDeployment/lib/python3.5/importlib/_bootstrap.py:222: RuntimeWarning: numpy.dtype size changed, may indicate binary incompatibility. Expected 96, got 88\n",
      "  return f(*args, **kwds)\n"
     ]
    }
   ],
   "source": [
    "%run driver.py"
   ]
  },
  {
   "cell_type": "markdown",
   "metadata": {},
   "source": [
    "Now, let's use one of the duplicate questions to test our driver."
   ]
  },
  {
   "cell_type": "code",
   "execution_count": 6,
   "metadata": {},
   "outputs": [
    {
     "data": {
      "text/plain": [
       "\"getting the length of a 'named' array?. i'm not sure what they are called, but what i mean is this:  length should be 2 here how can i see how many attributes i have in the array? array.length doesn't work =( i've been trying all kinds of things and i feel like i'm missing something really simple here.. thank you for your help\""
      ]
     },
     "execution_count": 6,
     "metadata": {},
     "output_type": "execute_result"
    }
   ],
   "source": [
    "dupes_test_path = 'dupes_test.tsv'\n",
    "dupes_test = pd.read_csv(dupes_test_path, sep='\\t', encoding='latin1')\n",
    "text_to_score = dupes_test.iloc[0,4]\n",
    "text_to_score"
   ]
  },
  {
   "cell_type": "markdown",
   "metadata": {},
   "source": [
    "Here, we convert our text for the format that will be required by the Flask application that will use the functions in the driver."
   ]
  },
  {
   "cell_type": "code",
   "execution_count": 7,
   "metadata": {},
   "outputs": [],
   "source": [
    "jsontext = text_to_json(text_to_score)\n",
    "json_load_text = json.loads(jsontext)\n",
    "body = json_load_text['input']"
   ]
  },
  {
   "cell_type": "code",
   "execution_count": 8,
   "metadata": {},
   "outputs": [
    {
     "name": "stderr",
     "output_type": "stream",
     "text": [
      "INFO:model_driver:Model object loading time: 401.3 ms\n"
     ]
    }
   ],
   "source": [
    "predict_for = get_model_api()"
   ]
  },
  {
   "cell_type": "code",
   "execution_count": 9,
   "metadata": {
    "scrolled": true
   },
   "outputs": [
    {
     "name": "stderr",
     "output_type": "stream",
     "text": [
      "INFO:model_driver:Predictions: [(5223, 6700, 0.9056762423642606), (126100, 4889658, 0.5897041951019686), (7364150, 7364307, 0.013095757762535671), (19590865, 19590901, 0.009726747791608314), (11922383, 11922384, 0.007400362725375734), (5627284, 5627301, 0.006518820196008976), (1771786, 1771824, 0.004990243605901752), (24900875, 24900924, 0.004120260321857448), (7837456, 14853974, 0.0016726596738734054), (1129216, 1129270, 0.0014618991064883388), (237104, 1473742, 0.0009983357055414952), (784929, 784946, 0.000918666929043429), (23667086, 23667087, 0.0007934756119722436), (4616202, 4616273, 0.0006798101809810278), (750486, 750506, 0.0005087117457724936), (14028959, 8716680, 0.0004299633021580329), (14220321, 14220323, 0.00037730639500855277), (85992, 86014, 0.00030718180657696116), (695050, 695053, 0.00029608261688253765), (1822350, 1822769, 0.00024789271341276657), (10693845, 10693852, 0.00022361713661220404), (5767325, 5767357, 0.00019449493626948474), (1068834, 1144249, 0.0001670688978128607), (15141762, 15171030, 0.00015851792922828826), (728360, 728694, 0.0001567500365635911), (901115, 901144, 0.00014549243138634672), (122102, 122704, 0.00014067558479359998), (171251, 171256, 0.00011824169921389884), (6259982, 6260001, 0.0001072566394134795), (1885557, 1885660, 0.00010618017194870577), (194397, 194399, 0.0001037214052264444), (1566595, 1566644, 0.00010367605790157362), (2274242, 2274327, 9.808228490291864e-05), (2421911, 2421949, 8.583134267152097e-05), (4057440, 4060176, 8.300949105983367e-05), (2631001, 2631198, 7.97966124848569e-05), (2100758, 2100767, 7.87320073108944e-05), (3034941, 3034952, 7.752524355531443e-05), (111102, 111111, 6.788908832423597e-05), (2802055, 2802064, 6.280405056425328e-05), (951021, 951057, 6.17777525833853e-05), (3384504, 3384534, 6.115589523951756e-05), (572897, 572996, 6.027940545529526e-05), (840781, 840808, 5.260390873711565e-05), (1267283, 1267338, 5.136411678743645e-05), (203198, 1207393, 4.927550844468395e-05), (262427, 262511, 4.5419082855129516e-05), (3434278, 3434388, 3.700503431060568e-05), (2716069, 2716188, 3.5581336580391254e-05), (500431, 500459, 3.511315628063247e-05), (518000, 3638034, 3.2258244344607687e-05), (364952, 364997, 3.171204427022117e-05), (201183, 201471, 3.113882192287909e-05), (1726630, 1726662, 3.0167258322513043e-05), (5874652, 5876747, 2.8360033801983795e-05), (494035, 494046, 2.8041764395465427e-05), (336859, 336868, 2.3576635220372358e-05), (13418669, 13418980, 2.3360714823544625e-05), (2241875, 2241883, 2.288337844673655e-05), (31044, 31047, 2.135585505593818e-05), (4968406, 4968448, 2.133526402167613e-05), (25111831, 25111942, 2.066951191984978e-05), (1584370, 1584377, 1.9085475716139594e-05), (7486085, 7486130, 1.8355200169961064e-05), (8228281, 8228308, 1.7206517831048194e-05), (440739, 440772, 1.6854913810950037e-05), (149055, 149150, 1.6220937794020937e-05), (1789945, 1789952, 1.5890058509334027e-05), (8495687, 8495740, 1.454910725086563e-05), (9032856, 9033306, 1.4276248791404965e-05), (684672, 684692, 1.407320671457242e-05), (2851404, 2851413, 1.3601472320170108e-05), (1470488, 1470494, 1.3007026826794998e-05), (1026069, 1026087, 1.2947377465403187e-05), (4425318, 4425359, 1.27789310257982e-05), (2846283, 2846298, 1.2072001745211193e-05), (166221, 8758614, 1.1781096432648245e-05), (359494, 359509, 1.1627878311879948e-05), (20279484, 20279485, 1.1615638922972378e-05), (6847697, 6847754, 1.1415681159698897e-05), (3059044, 3059129, 1.0031051728393043e-05), (1451009, 1451043, 8.31118292990639e-06), (3163407, 3163422, 7.983035356506258e-06), (1433212, 1433217, 7.888329706276974e-06), (1458633, 3439981, 7.579647942560018e-06), (13840429, 13840431, 7.23570024783858e-06), (359788, 359910, 6.454556763120007e-06), (5093398, 5100287, 6.0242650894152596e-06), (1634268, 1634321, 5.5607977257609866e-06), (1017224, 1017237, 5.447634840187322e-06), (2320069, 2320097, 4.302679981928431e-06), (8021436, 8021462, 4.286700358839145e-06), (307179, 307200, 4.2164490474353314e-06), (1144783, 17606289, 4.208989930754752e-06), (23392111, 23392650, 3.932792387952481e-06), (3561043, 3561056, 3.929507050165068e-06), (1398582, 1398608, 3.868661199559624e-06), (12953704, 12953750, 3.752277619726043e-06), (1063007, 1063027, 3.7063671517743496e-06), (1225667, 1225683, 3.6730080772082695e-06), (2844565, 2844704, 3.534780619655433e-06), (403967, 22745553, 3.3545366965963357e-06), (5117127, 5117172, 3.2614331222290893e-06), (4907843, 4907854, 3.242117421329561e-06), (3127429, 3127440, 2.954950696295524e-06), (12475269, 12475285, 2.7363665059063707e-06), (1646698, 3658673, 2.7320332839322364e-06), (45015, 5686237, 2.637865349213655e-06), (2067472, 2067584, 2.4912370828685108e-06), (1873983, 1873999, 2.3848262341233675e-06), (4935632, 4935684, 2.3599843282699754e-06), (92720, 92819, 2.359715253076578e-06), (205853, 553734, 2.2553020543632347e-06), (805107, 805113, 2.0901980174311133e-06), (5187530, 5187652, 1.9269779594666653e-06), (2901102, 2901298, 1.8050829257579872e-06), (23740548, 23740549, 1.7470036741282297e-06), (979256, 979289, 1.7028578345905829e-06), (7165395, 7165616, 1.6907590267957006e-06), (1051782, 1051797, 1.684119246707629e-06), (18082, 1830844, 1.5680997395660396e-06), (1085801, 1085810, 1.4802619948093267e-06), (1069666, 1069840, 1.4780606012644987e-06), (25881041, 25881231, 1.4477462234209055e-06), (1520800, 1520853, 1.424861311636235e-06), (5431351, 5431435, 1.4158089637817757e-06), (492994, 493018, 1.4129202174761607e-06), (5891840, 5891929, 1.383783916341043e-06), (12829963, 12830031, 1.360120994244047e-06), (1527803, 1527820, 1.265150359216662e-06), (2655925, 8894528, 1.1104698653442849e-06), (1917576, 1917626, 1.0759263370149976e-06), (242813, 242833, 9.24502194867617e-07), (7506844, 7506937, 8.209214807561216e-07), (1379934, 1380058, 7.859485324560593e-07), (20077487, 20077854, 7.563590681969087e-07), (950087, 950146, 7.362645747679862e-07), (4255472, 4255480, 7.139548109647982e-07), (134845, 138233, 6.628513868023875e-07), (29986657, 30070207, 6.579745864041641e-07), (1359469, 1359507, 5.566146157685067e-07), (37684, 21925491, 5.206833956917001e-07), (28250680, 28250697, 4.996996772618897e-07), (6487366, 6487376, 4.5820563638884463e-07), (32584850, 32585470, 4.566018862122788e-07), (1056728, 1056730, 4.5563010168520784e-07), (824349, 3354511, 4.5133140434731354e-07), (3583724, 3583740, 4.3880644127860926e-07), (3076414, 3076648, 4.354917832431153e-07), (2010892, 2010948, 4.246266460994818e-07), (1661197, 9337047, 3.5310135310632984e-07), (3514784, 3540295, 3.426511078319056e-07), (2194992, 2195167, 2.962672567130457e-07), (236073, 236106, 2.9401430164677393e-07), (20035101, 20035319, 2.8914443187181357e-07), (1359018, 9331127, 2.805881035759011e-07), (3665115, 3665147, 2.3228955616102425e-07), (3224834, 3224854, 2.1402135195087057e-07), (4459379, 4459419, 2.1334200016762788e-07), (4912092, 6678156, 1.928490751141814e-07), (436411, 24070373, 1.8267803205032593e-07), (6491463, 6491621, 1.8086357293701385e-07), (3561493, 3561711, 1.6509098694402474e-07), (4851595, 4851614, 1.628846312787253e-07), (22519784, 22519785, 1.602663222872877e-07), (2075337, 2075349, 1.5632346012459785e-07), (69913, 69984, 1.5151715879998705e-07), (5041494, 5734583, 1.48863114685257e-07), (121203, 121259, 1.3286856997000455e-07), (850341, 850346, 1.2278515912674058e-07), (8110934, 8111171, 1.1068007649894311e-07), (27928, 27943, 1.0508573558128492e-07), (6677035, 6677069, 9.614205579530371e-08), (168214, 169035, 9.591798435803227e-08), (391979, 810461, 7.961377746782716e-08), (152975, 153047, 5.457782243285462e-08), (610406, 610415, 5.209191692180423e-08), (3888902, 3888938, 4.888315248109809e-08), (5316697, 5316755, 3.757472526758677e-08), (5004233, 5004276, 1.5721766256975772e-08), (400212, 6055620, 9.358082510664401e-09), (3595515, 3744697, 5.376047811833035e-09)]\n",
      "INFO:model_driver:Predictions took 69.69 ms\n"
     ]
    }
   ],
   "source": [
    "resp = predict_for(body)"
   ]
  },
  {
   "cell_type": "markdown",
   "metadata": {},
   "source": [
    "Next, we move on to [building our docker image](03_Build_Image.ipynb)."
   ]
  }
 ],
 "metadata": {
  "kernelspec": {
   "display_name": "Python [conda env:MLAKSDeployment]",
   "language": "python",
   "name": "conda-env-MLAKSDeployment-py"
  },
  "language_info": {
   "codemirror_mode": {
    "name": "ipython",
    "version": 3
   },
   "file_extension": ".py",
   "mimetype": "text/x-python",
   "name": "python",
   "nbconvert_exporter": "python",
   "pygments_lexer": "ipython3",
   "version": "3.5.5"
  }
 },
 "nbformat": 4,
 "nbformat_minor": 2
}
