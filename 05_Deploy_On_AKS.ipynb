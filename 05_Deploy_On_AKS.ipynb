{
 "cells": [
  {
   "cell_type": "markdown",
   "metadata": {},
   "source": [
    "# Deploy Web App on Azure Container Services (AKS)\n",
    "\n",
    "\n",
    "In this notebook, we will set up an Azure Container Service which will be managed by Kubernetes. We will then take the Docker image we created earlier that contains our app and deploy it to the AKS cluster. Then, we will check everything is working by sending a question to it and getting it scored for matches in the original questions.\n",
    "\n",
    "The process is split into the following steps:\n",
    "- Define our resource names\n",
    "- Login to Azure\n",
    "- Create resource group and create AKS\n",
    "- Connect to AKS\n",
    "- Deploy our app\n",
    "\n",
    "We assume that this notebook is running on Linux and Azure CLI is installed before proceeding."
   ]
  },
  {
   "cell_type": "code",
   "execution_count": 1,
   "metadata": {},
   "outputs": [
    {
     "name": "stderr",
     "output_type": "stream",
     "text": [
      "/anaconda/envs/MLAKSDeployment/lib/python3.5/importlib/_bootstrap.py:222: RuntimeWarning: numpy.dtype size changed, may indicate binary incompatibility. Expected 96, got 88\n",
      "  return f(*args, **kwds)\n"
     ]
    }
   ],
   "source": [
    "import os\n",
    "import json\n",
    "import dotenv\n",
    "from utilities import write_json_to_file\n",
    "%load_ext dotenv"
   ]
  },
  {
   "cell_type": "markdown",
   "metadata": {},
   "source": [
    "## Setup\n",
    "\n",
    "Determine the location of the dotenv file."
   ]
  },
  {
   "cell_type": "code",
   "execution_count": 2,
   "metadata": {},
   "outputs": [],
   "source": [
    "dotenv_path = dotenv.find_dotenv()"
   ]
  },
  {
   "cell_type": "markdown",
   "metadata": {},
   "source": [
    "Below are the various name definitions for the resources needed to setup AKS. Please modify the values in the `set_key` statements as you see fit."
   ]
  },
  {
   "cell_type": "code",
   "execution_count": 3,
   "metadata": {
    "tags": [
     "parameters"
    ]
   },
   "outputs": [
    {
     "data": {
      "text/plain": [
       "(True, 'location', 'southeastasia')"
      ]
     },
     "execution_count": 3,
     "metadata": {},
     "output_type": "execute_result"
    }
   ],
   "source": [
    "# If you have multiple subscriptions select the subscription you want to use \n",
    "dotenv.set_key(dotenv_path, 'selected_subscription', 'Microsoft Azure')\n",
    "\n",
    "# Resource group, name and location for AKS cluster\n",
    "dotenv.set_key(dotenv_path, 'resource_group', 'exampleAKS') \n",
    "dotenv.set_key(dotenv_path, 'aks_name', 'exampleAKS')\n",
    "dotenv.set_key(dotenv_path, 'location', 'southeastasia')"
   ]
  },
  {
   "cell_type": "markdown",
   "metadata": {},
   "source": [
    "Import the dotenv variables. Use them to determine the name of the image."
   ]
  },
  {
   "cell_type": "code",
   "execution_count": 4,
   "metadata": {},
   "outputs": [
    {
     "data": {
      "text/plain": [
       "'kwarodom/mlaksdep'"
      ]
     },
     "execution_count": 4,
     "metadata": {},
     "output_type": "execute_result"
    }
   ],
   "source": [
    "%dotenv -o\n",
    "image_name = os.getenv('docker_login') + os.getenv('image_repo')\n",
    "image_name"
   ]
  },
  {
   "cell_type": "code",
   "execution_count": 5,
   "metadata": {},
   "outputs": [
    {
     "data": {
      "text/plain": [
       "'Microsoft Azure'"
      ]
     },
     "execution_count": 5,
     "metadata": {},
     "output_type": "execute_result"
    }
   ],
   "source": [
    "os.getenv('selected_subscription')"
   ]
  },
  {
   "cell_type": "markdown",
   "metadata": {},
   "source": [
    "## Azure account login"
   ]
  },
  {
   "cell_type": "markdown",
   "metadata": {},
   "source": [
    "The commands below will ensure you are logged in to your Azure account. If you are not logged in, it will initiate a login by popping up a browser at a login page where you will select your Azure account."
   ]
  },
  {
   "cell_type": "code",
   "execution_count": 38,
   "metadata": {},
   "outputs": [
    {
     "name": "stdout",
     "output_type": "stream",
     "text": [
      "Name             CloudName    SubscriptionId                        State    IsDefault\n",
      "---------------  -----------  ------------------------------------  -------  -----------\n",
      "Microsoft Azure  AzureCloud   f973e87c-e4b6-44f1-95ea-2f146d41c844  Enabled  True\n"
     ]
    }
   ],
   "source": [
    "%%bash\n",
    "list=`az account list -o table`\n",
    "if [ \"$list\" == '[]' ] || [ \"$list\" == '' ]; then \n",
    "  az login -o table\n",
    "else\n",
    "  az account list -o table \n",
    "fi"
   ]
  },
  {
   "cell_type": "code",
   "execution_count": 39,
   "metadata": {},
   "outputs": [],
   "source": [
    "!sudo az account set --subscription \"$selected_subscription\""
   ]
  },
  {
   "cell_type": "code",
   "execution_count": 40,
   "metadata": {},
   "outputs": [
    {
     "name": "stdout",
     "output_type": "stream",
     "text": [
      "{\r\n",
      "  \"environmentName\": \"AzureCloud\",\r\n",
      "  \"id\": \"f973e87c-e4b6-44f1-95ea-2f146d41c844\",\r\n",
      "  \"isDefault\": true,\r\n",
      "  \"name\": \"Microsoft Azure\",\r\n",
      "  \"state\": \"Enabled\",\r\n",
      "  \"tenantId\": \"7312bb0d-08fa-4d15-92e6-df809bfdbf2f\",\r\n",
      "  \"user\": {\r\n",
      "    \"name\": \"admin@smarthomepea.onmicrosoft.com\",\r\n",
      "    \"type\": \"user\"\r\n",
      "  }\r\n",
      "}\r\n"
     ]
    }
   ],
   "source": [
    "!az account show"
   ]
  },
  {
   "cell_type": "markdown",
   "metadata": {},
   "source": [
    "You will also need to register the container service resources on your subscription if you haven't already done so."
   ]
  },
  {
   "cell_type": "code",
   "execution_count": 41,
   "metadata": {},
   "outputs": [
    {
     "name": "stdout",
     "output_type": "stream",
     "text": [
      "\u001b[33mRegistering is still on-going. You can monitor using 'az provider show -n Microsoft.ContainerService'\u001b[0m\r\n"
     ]
    }
   ],
   "source": [
    "!sudo az provider register -n Microsoft.ContainerService"
   ]
  },
  {
   "cell_type": "code",
   "execution_count": 42,
   "metadata": {
    "scrolled": true
   },
   "outputs": [
    {
     "name": "stdout",
     "output_type": "stream",
     "text": [
      "{\r\n",
      "  \"authorization\": {\r\n",
      "    \"applicationId\": \"7319c514-987d-4e9b-ac3d-d38c4f427f4c\",\r\n",
      "    \"managedByRoleDefinitionId\": \"8e3af657-a8ff-443c-a75c-2fe8c4bcb635\",\r\n",
      "    \"roleDefinitionId\": \"1b4a0c7f-2217-416f-acfa-cf73452fdc1c\"\r\n",
      "  },\r\n",
      "  \"id\": \"/subscriptions/f973e87c-e4b6-44f1-95ea-2f146d41c844/providers/Microsoft.ContainerService\",\r\n",
      "  \"namespace\": \"Microsoft.ContainerService\",\r\n",
      "  \"registrationState\": \"Registered\",\r\n",
      "  \"resourceTypes\": [\r\n",
      "    {\r\n",
      "      \"aliases\": null,\r\n",
      "      \"apiVersions\": [\r\n",
      "        \"2017-07-01\",\r\n",
      "        \"2017-01-31\",\r\n",
      "        \"2016-09-30\",\r\n",
      "        \"2016-03-30\"\r\n",
      "      ],\r\n",
      "      \"capabilities\": \"None\",\r\n",
      "      \"locations\": [\r\n",
      "        \"Japan East\",\r\n",
      "        \"Central US\",\r\n",
      "        \"East US 2\",\r\n",
      "        \"Japan West\",\r\n",
      "        \"East Asia\",\r\n",
      "        \"South Central US\",\r\n",
      "        \"Australia East\",\r\n",
      "        \"Australia Southeast\",\r\n",
      "        \"Brazil South\",\r\n",
      "        \"Southeast Asia\",\r\n",
      "        \"West US\",\r\n",
      "        \"North Central US\",\r\n",
      "        \"West Europe\",\r\n",
      "        \"North Europe\",\r\n",
      "        \"East US\",\r\n",
      "        \"UK West\",\r\n",
      "        \"UK South\",\r\n",
      "        \"West Central US\",\r\n",
      "        \"West US 2\",\r\n",
      "        \"South India\",\r\n",
      "        \"Central India\",\r\n",
      "        \"West India\",\r\n",
      "        \"Canada East\",\r\n",
      "        \"Canada Central\",\r\n",
      "        \"Korea South\",\r\n",
      "        \"Korea Central\"\r\n",
      "      ],\r\n",
      "      \"properties\": null,\r\n",
      "      \"resourceType\": \"containerServices\"\r\n",
      "    },\r\n",
      "    {\r\n",
      "      \"aliases\": null,\r\n",
      "      \"apiVersions\": [\r\n",
      "        \"2018-03-31\",\r\n",
      "        \"2017-08-31\"\r\n",
      "      ],\r\n",
      "      \"capabilities\": \"None\",\r\n",
      "      \"locations\": [\r\n",
      "        \"East US\",\r\n",
      "        \"West Europe\",\r\n",
      "        \"Central US\",\r\n",
      "        \"Canada Central\",\r\n",
      "        \"Canada East\",\r\n",
      "        \"UK South\",\r\n",
      "        \"West US\",\r\n",
      "        \"West US 2\",\r\n",
      "        \"Australia East\",\r\n",
      "        \"North Europe\",\r\n",
      "        \"Japan East\",\r\n",
      "        \"East US 2\",\r\n",
      "        \"Southeast Asia\",\r\n",
      "        \"UK West\",\r\n",
      "        \"South India\"\r\n",
      "      ],\r\n",
      "      \"properties\": null,\r\n",
      "      \"resourceType\": \"managedClusters\"\r\n",
      "    },\r\n",
      "    {\r\n",
      "      \"aliases\": null,\r\n",
      "      \"apiVersions\": [\r\n",
      "        \"2017-08-31\",\r\n",
      "        \"2017-01-31\",\r\n",
      "        \"2016-09-30\",\r\n",
      "        \"2016-03-30\",\r\n",
      "        \"2015-11-01-preview\"\r\n",
      "      ],\r\n",
      "      \"locations\": [],\r\n",
      "      \"properties\": null,\r\n",
      "      \"resourceType\": \"locations\"\r\n",
      "    },\r\n",
      "    {\r\n",
      "      \"aliases\": null,\r\n",
      "      \"apiVersions\": [\r\n",
      "        \"2018-10-31\",\r\n",
      "        \"2017-08-31\",\r\n",
      "        \"2016-03-30\"\r\n",
      "      ],\r\n",
      "      \"locations\": [\r\n",
      "        \"East US\",\r\n",
      "        \"West Europe\",\r\n",
      "        \"Central US\",\r\n",
      "        \"UK West\",\r\n",
      "        \"West Central US\",\r\n",
      "        \"West US 2\",\r\n",
      "        \"South India\",\r\n",
      "        \"Central India\",\r\n",
      "        \"West India\",\r\n",
      "        \"Canada East\",\r\n",
      "        \"Canada Central\",\r\n",
      "        \"Korea South\",\r\n",
      "        \"Korea Central\",\r\n",
      "        \"UK South\",\r\n",
      "        \"Australia East\",\r\n",
      "        \"Australia Southeast\",\r\n",
      "        \"North Europe\",\r\n",
      "        \"Japan East\",\r\n",
      "        \"East US 2\",\r\n",
      "        \"Southeast Asia\"\r\n",
      "      ],\r\n",
      "      \"properties\": null,\r\n",
      "      \"resourceType\": \"locations/operationresults\"\r\n",
      "    },\r\n",
      "    {\r\n",
      "      \"aliases\": null,\r\n",
      "      \"apiVersions\": [\r\n",
      "        \"2017-07-01\",\r\n",
      "        \"2017-01-31\",\r\n",
      "        \"2016-09-30\",\r\n",
      "        \"2016-03-30\"\r\n",
      "      ],\r\n",
      "      \"locations\": [\r\n",
      "        \"Japan East\",\r\n",
      "        \"Central US\",\r\n",
      "        \"East US 2\",\r\n",
      "        \"Japan West\",\r\n",
      "        \"East Asia\",\r\n",
      "        \"South Central US\",\r\n",
      "        \"Australia East\",\r\n",
      "        \"Australia Southeast\",\r\n",
      "        \"Brazil South\",\r\n",
      "        \"Southeast Asia\",\r\n",
      "        \"West US\",\r\n",
      "        \"North Central US\",\r\n",
      "        \"West Europe\",\r\n",
      "        \"North Europe\",\r\n",
      "        \"East US\",\r\n",
      "        \"UK West\",\r\n",
      "        \"UK South\",\r\n",
      "        \"West Central US\",\r\n",
      "        \"West US 2\",\r\n",
      "        \"South India\",\r\n",
      "        \"Central India\",\r\n",
      "        \"West India\",\r\n",
      "        \"Canada East\",\r\n",
      "        \"Canada Central\",\r\n",
      "        \"Korea South\",\r\n",
      "        \"Korea Central\"\r\n",
      "      ],\r\n",
      "      \"properties\": null,\r\n",
      "      \"resourceType\": \"locations/operations\"\r\n",
      "    },\r\n",
      "    {\r\n",
      "      \"aliases\": null,\r\n",
      "      \"apiVersions\": [\r\n",
      "        \"2018-10-31\",\r\n",
      "        \"2018-03-31\",\r\n",
      "        \"2017-08-31\",\r\n",
      "        \"2017-07-01\",\r\n",
      "        \"2017-01-31\",\r\n",
      "        \"2016-09-30\",\r\n",
      "        \"2016-03-30\",\r\n",
      "        \"2015-11-01-preview\"\r\n",
      "      ],\r\n",
      "      \"locations\": [],\r\n",
      "      \"properties\": null,\r\n",
      "      \"resourceType\": \"operations\"\r\n",
      "    },\r\n",
      "    {\r\n",
      "      \"aliases\": null,\r\n",
      "      \"apiVersions\": [\r\n",
      "        \"2017-09-30\"\r\n",
      "      ],\r\n",
      "      \"locations\": [\r\n",
      "        \"East US\",\r\n",
      "        \"West Europe\",\r\n",
      "        \"Central US\",\r\n",
      "        \"Canada East\",\r\n",
      "        \"Canada Central\",\r\n",
      "        \"UK South\",\r\n",
      "        \"UK West\",\r\n",
      "        \"West US\",\r\n",
      "        \"West US 2\",\r\n",
      "        \"Australia East\",\r\n",
      "        \"North Europe\",\r\n",
      "        \"Japan East\",\r\n",
      "        \"East US 2\",\r\n",
      "        \"Southeast Asia\",\r\n",
      "        \"South India\",\r\n",
      "        \"East Asia\"\r\n",
      "      ],\r\n",
      "      \"properties\": null,\r\n",
      "      \"resourceType\": \"locations/orchestrators\"\r\n",
      "    }\r\n",
      "  ]\r\n",
      "}\r\n"
     ]
    }
   ],
   "source": [
    "!sudo az provider show -n Microsoft.ContainerService"
   ]
  },
  {
   "cell_type": "markdown",
   "metadata": {},
   "source": [
    "## Create resources and dependencies"
   ]
  },
  {
   "cell_type": "markdown",
   "metadata": {},
   "source": [
    "### Create resource group and AKS cluster"
   ]
  },
  {
   "cell_type": "markdown",
   "metadata": {},
   "source": [
    "Azure encourages the use of groups to organize all the Azure components you deploy. That way it is easier to find them but also we can delete a number of resources simply by deleting the group."
   ]
  },
  {
   "cell_type": "code",
   "execution_count": 43,
   "metadata": {},
   "outputs": [
    {
     "name": "stdout",
     "output_type": "stream",
     "text": [
      "{\r\n",
      "  \"id\": \"/subscriptions/f973e87c-e4b6-44f1-95ea-2f146d41c844/resourceGroups/exampleAKS\",\r\n",
      "  \"location\": \"southeastasia\",\r\n",
      "  \"managedBy\": null,\r\n",
      "  \"name\": \"exampleAKS\",\r\n",
      "  \"properties\": {\r\n",
      "    \"provisioningState\": \"Succeeded\"\r\n",
      "  },\r\n",
      "  \"tags\": null\r\n",
      "}\r\n"
     ]
    }
   ],
   "source": [
    "!sudo az group create --name $resource_group --location $location"
   ]
  },
  {
   "cell_type": "markdown",
   "metadata": {},
   "source": [
    "Below, we create the AKS cluster  with 5 nodes in the resource group we created earlier. This step can take ten or more minutes."
   ]
  },
  {
   "cell_type": "code",
   "execution_count": null,
   "metadata": {},
   "outputs": [
    {
     "name": "stdout",
     "output_type": "stream",
     "text": [
      "\u001b[K - Running ...principal creation[##################################]  100.0000%\r"
     ]
    }
   ],
   "source": [
    "%%time\n",
    "!sudo az aks create --resource-group $resource_group --name $aks_name --node-count 5 --generate-ssh-keys -s Standard_D4_v2"
   ]
  },
  {
   "cell_type": "markdown",
   "metadata": {},
   "source": [
    "### Install kubectl CLI"
   ]
  },
  {
   "cell_type": "markdown",
   "metadata": {},
   "source": [
    "To connect to the Kubernetes cluster, we will use kubectl, the Kubernetes command-line client. To install, run the following:"
   ]
  },
  {
   "cell_type": "code",
   "execution_count": 6,
   "metadata": {},
   "outputs": [
    {
     "name": "stdout",
     "output_type": "stream",
     "text": [
      "\u001b[33mDownloading client to \"/usr/local/bin/kubectl\" from \"https://storage.googleapis.com/kubernetes-release/release/v1.12.2/bin/linux/amd64/kubectl\"\u001b[0m\n",
      "\u001b[33mPlease ensure that /usr/local/bin is in your search PATH, so the `kubectl` command can be found.\u001b[0m\n"
     ]
    }
   ],
   "source": [
    "!sudo env \"PATH=$PATH\" az aks install-cli"
   ]
  },
  {
   "cell_type": "markdown",
   "metadata": {},
   "source": [
    "## Connect to AKS cluster"
   ]
  },
  {
   "cell_type": "markdown",
   "metadata": {},
   "source": [
    "To configure kubectl to connect to the Kubernetes cluster, run the following command:"
   ]
  },
  {
   "cell_type": "code",
   "execution_count": 8,
   "metadata": {},
   "outputs": [
    {
     "name": "stdout",
     "output_type": "stream",
     "text": [
      "Merged \"exampleAKS\" as current context in /home/kwarodom/.kube/config\r\n"
     ]
    }
   ],
   "source": [
    "!sudo az aks get-credentials --resource-group $resource_group --name $aks_name"
   ]
  },
  {
   "cell_type": "markdown",
   "metadata": {},
   "source": [
    "Let's verify connection by listing the nodes."
   ]
  },
  {
   "cell_type": "code",
   "execution_count": 10,
   "metadata": {},
   "outputs": [
    {
     "name": "stdout",
     "output_type": "stream",
     "text": [
      "NAME                       STATUS   ROLES   AGE     VERSION\r\n",
      "aks-nodepool1-36721700-0   Ready    agent   6m45s   v1.9.11\r\n",
      "aks-nodepool1-36721700-1   Ready    agent   7m1s    v1.9.11\r\n",
      "aks-nodepool1-36721700-2   Ready    agent   6m45s   v1.9.11\r\n",
      "aks-nodepool1-36721700-3   Ready    agent   6m43s   v1.9.11\r\n",
      "aks-nodepool1-36721700-4   Ready    agent   6m31s   v1.9.11\r\n"
     ]
    }
   ],
   "source": [
    "!sudo kubectl get nodes"
   ]
  },
  {
   "cell_type": "markdown",
   "metadata": {},
   "source": [
    "Let's check the pods on our cluster."
   ]
  },
  {
   "cell_type": "code",
   "execution_count": 12,
   "metadata": {},
   "outputs": [
    {
     "name": "stdout",
     "output_type": "stream",
     "text": [
      "NAMESPACE     NAME                                   READY   STATUS    RESTARTS   AGE\r\n",
      "kube-system   heapster-5884fdbc48-fc9d8              2/2     Running   0          20m\r\n",
      "kube-system   kube-dns-v20-b8ff799f7-5b6xq           3/3     Running   0          20m\r\n",
      "kube-system   kube-dns-v20-b8ff799f7-8hh8m           3/3     Running   0          20m\r\n",
      "kube-system   kube-proxy-9qbzx                       1/1     Running   0          12m\r\n",
      "kube-system   kube-proxy-cgjdh                       1/1     Running   0          12m\r\n",
      "kube-system   kube-proxy-dhpfb                       1/1     Running   0          12m\r\n",
      "kube-system   kube-proxy-ghgqs                       1/1     Running   0          12m\r\n",
      "kube-system   kube-proxy-md6gg                       1/1     Running   0          12m\r\n",
      "kube-system   kube-svc-redirect-5xn9g                2/2     Running   0          12m\r\n",
      "kube-system   kube-svc-redirect-jdp49                2/2     Running   0          12m\r\n",
      "kube-system   kube-svc-redirect-jf5sb                2/2     Running   0          12m\r\n",
      "kube-system   kube-svc-redirect-nr5wd                2/2     Running   0          12m\r\n",
      "kube-system   kube-svc-redirect-sdmd2                2/2     Running   0          12m\r\n",
      "kube-system   kubernetes-dashboard-cb6558ddb-qpff6   1/1     Running   3          20m\r\n",
      "kube-system   tunnelfront-fb9d76575-gt7d2            1/1     Running   0          20m\r\n"
     ]
    }
   ],
   "source": [
    "!sudo kubectl get pods --all-namespaces"
   ]
  },
  {
   "cell_type": "markdown",
   "metadata": {},
   "source": [
    "## Deploy application"
   ]
  },
  {
   "cell_type": "markdown",
   "metadata": {},
   "source": [
    "Below we define our Kubernetes manifest file for our service and load balancer. Note that we have to specify the image name and cpu requests and limits for pods. We first start with  deploying 2 pods."
   ]
  },
  {
   "cell_type": "code",
   "execution_count": 13,
   "metadata": {},
   "outputs": [],
   "source": [
    "app_template = {\n",
    "  \"apiVersion\": \"apps/v1beta1\",\n",
    "  \"kind\": \"Deployment\",\n",
    "  \"metadata\": {\n",
    "      \"name\": \"azure-ml\"\n",
    "  },\n",
    "  \"spec\":{\n",
    "      \"replicas\":2,\n",
    "      \"template\":{\n",
    "          \"metadata\":{\n",
    "              \"labels\":{\n",
    "                  \"app\":\"azure-ml\"\n",
    "              }\n",
    "          },\n",
    "          \"spec\":{\n",
    "              \"containers\":[\n",
    "                  {\n",
    "                      \"name\": \"azure-ml\",\n",
    "                      \"image\": image_name,\n",
    "\n",
    "                      \"ports\":[\n",
    "                          {\n",
    "                              \"containerPort\":80,\n",
    "                              \"name\":\"model\"\n",
    "                          }\n",
    "                      ],\n",
    "                      \"resources\":{\n",
    "                           \"requests\":{\n",
    "                               \"cpu\": 1\n",
    "                           },\n",
    "                           \"limits\":{\n",
    "                               \"cpu\": 1.25\n",
    "                           }\n",
    "                       }  \n",
    "                  }\n",
    "              ]\n",
    "          }\n",
    "      }\n",
    "  }\n",
    "}\n",
    "\n",
    "service_temp = {\n",
    "  \"apiVersion\": \"v1\",\n",
    "  \"kind\": \"Service\",\n",
    "  \"metadata\": {\n",
    "      \"name\": \"azure-ml\"\n",
    "  },\n",
    "  \"spec\":{\n",
    "      \"type\": \"LoadBalancer\",\n",
    "      \"ports\":[\n",
    "          {\n",
    "              \"port\":80\n",
    "          }\n",
    "      ],\n",
    "      \"selector\":{\n",
    "            \"app\":\"azure-ml\"\n",
    "      }\n",
    "   }\n",
    "}"
   ]
  },
  {
   "cell_type": "code",
   "execution_count": 14,
   "metadata": {},
   "outputs": [],
   "source": [
    "write_json_to_file(app_template, 'az-ml.json')"
   ]
  },
  {
   "cell_type": "code",
   "execution_count": 15,
   "metadata": {},
   "outputs": [],
   "source": [
    "write_json_to_file(service_temp, 'az-ml.json', mode='a')"
   ]
  },
  {
   "cell_type": "markdown",
   "metadata": {},
   "source": [
    "Let's check the manifest created."
   ]
  },
  {
   "cell_type": "code",
   "execution_count": 16,
   "metadata": {},
   "outputs": [
    {
     "name": "stdout",
     "output_type": "stream",
     "text": [
      "{\r\n",
      "    \"apiVersion\": \"apps/v1beta1\",\r\n",
      "    \"kind\": \"Deployment\",\r\n",
      "    \"metadata\": {\r\n",
      "        \"name\": \"azure-ml\"\r\n",
      "    },\r\n",
      "    \"spec\": {\r\n",
      "        \"replicas\": 2,\r\n",
      "        \"template\": {\r\n",
      "            \"metadata\": {\r\n",
      "                \"labels\": {\r\n",
      "                    \"app\": \"azure-ml\"\r\n",
      "                }\r\n",
      "            },\r\n",
      "            \"spec\": {\r\n",
      "                \"containers\": [\r\n",
      "                    {\r\n",
      "                        \"image\": \"kwarodom/mlaksdep\",\r\n",
      "                        \"name\": \"azure-ml\",\r\n",
      "                        \"ports\": [\r\n",
      "                            {\r\n",
      "                                \"containerPort\": 80,\r\n",
      "                                \"name\": \"model\"\r\n",
      "                            }\r\n",
      "                        ],\r\n",
      "                        \"resources\": {\r\n",
      "                            \"limits\": {\r\n",
      "                                \"cpu\": 1.25\r\n",
      "                            },\r\n",
      "                            \"requests\": {\r\n",
      "                                \"cpu\": 1\r\n",
      "                            }\r\n",
      "                        }\r\n",
      "                    }\r\n",
      "                ]\r\n",
      "            }\r\n",
      "        }\r\n",
      "    }\r\n",
      "}\r\n",
      "\r\n",
      "{\r\n",
      "    \"apiVersion\": \"v1\",\r\n",
      "    \"kind\": \"Service\",\r\n",
      "    \"metadata\": {\r\n",
      "        \"name\": \"azure-ml\"\r\n",
      "    },\r\n",
      "    \"spec\": {\r\n",
      "        \"ports\": [\r\n",
      "            {\r\n",
      "                \"port\": 80\r\n",
      "            }\r\n",
      "        ],\r\n",
      "        \"selector\": {\r\n",
      "            \"app\": \"azure-ml\"\r\n",
      "        },\r\n",
      "        \"type\": \"LoadBalancer\"\r\n",
      "    }\r\n",
      "}\r\n",
      "\r\n"
     ]
    }
   ],
   "source": [
    "!cat az-ml.json"
   ]
  },
  {
   "cell_type": "markdown",
   "metadata": {},
   "source": [
    "Next, we will use kubectl create command to deploy our application."
   ]
  },
  {
   "cell_type": "code",
   "execution_count": 18,
   "metadata": {},
   "outputs": [
    {
     "name": "stdout",
     "output_type": "stream",
     "text": [
      "deployment.apps/azure-ml created\n",
      "service/azure-ml created\n"
     ]
    }
   ],
   "source": [
    "!sudo kubectl create -f az-ml.json"
   ]
  },
  {
   "cell_type": "markdown",
   "metadata": {},
   "source": [
    "Let's check if the pod is deployed. It can take several minutes for the deployment to be ready and running."
   ]
  },
  {
   "cell_type": "code",
   "execution_count": 19,
   "metadata": {},
   "outputs": [
    {
     "name": "stdout",
     "output_type": "stream",
     "text": [
      "NAMESPACE     NAME                                   READY   STATUS              RESTARTS   AGE\r\n",
      "default       azure-ml-b5f8f9478-btsj6               0/1     ContainerCreating   0          6s\r\n",
      "default       azure-ml-b5f8f9478-lp5cp               0/1     ContainerCreating   0          6s\r\n",
      "kube-system   heapster-5884fdbc48-fc9d8              2/2     Running             0          25m\r\n",
      "kube-system   kube-dns-v20-b8ff799f7-5b6xq           3/3     Running             0          25m\r\n",
      "kube-system   kube-dns-v20-b8ff799f7-8hh8m           3/3     Running             0          25m\r\n",
      "kube-system   kube-proxy-9qbzx                       1/1     Running             0          17m\r\n",
      "kube-system   kube-proxy-cgjdh                       1/1     Running             0          17m\r\n",
      "kube-system   kube-proxy-dhpfb                       1/1     Running             0          17m\r\n",
      "kube-system   kube-proxy-ghgqs                       1/1     Running             0          17m\r\n",
      "kube-system   kube-proxy-md6gg                       1/1     Running             0          17m\r\n",
      "kube-system   kube-svc-redirect-5xn9g                2/2     Running             0          17m\r\n",
      "kube-system   kube-svc-redirect-jdp49                2/2     Running             0          17m\r\n",
      "kube-system   kube-svc-redirect-jf5sb                2/2     Running             0          17m\r\n",
      "kube-system   kube-svc-redirect-nr5wd                2/2     Running             0          17m\r\n",
      "kube-system   kube-svc-redirect-sdmd2                2/2     Running             0          17m\r\n",
      "kube-system   kubernetes-dashboard-cb6558ddb-qpff6   1/1     Running             3          25m\r\n",
      "kube-system   tunnelfront-fb9d76575-gt7d2            1/1     Running             0          25m\r\n"
     ]
    }
   ],
   "source": [
    "!sudo kubectl get pods --all-namespaces"
   ]
  },
  {
   "cell_type": "markdown",
   "metadata": {},
   "source": [
    "If anything goes wrong you can use the commands below to observe the events on the node as well as review the logs."
   ]
  },
  {
   "cell_type": "code",
   "execution_count": 20,
   "metadata": {},
   "outputs": [
    {
     "name": "stdout",
     "output_type": "stream",
     "text": [
      "LAST SEEN   TYPE      REASON                       KIND         MESSAGE\r\n",
      "22m         Normal    NodeHasSufficientDisk        Node         Node aks-nodepool1-36721700-0 status is now: NodeHasSufficientDisk\r\n",
      "22m         Normal    NodeHasSufficientMemory      Node         Node aks-nodepool1-36721700-0 status is now: NodeHasSufficientMemory\r\n",
      "22m         Normal    NodeHasNoDiskPressure        Node         Node aks-nodepool1-36721700-0 status is now: NodeHasNoDiskPressure\r\n",
      "22m         Normal    NodeAllocatableEnforced      Node         Updated Node Allocatable limit across pods\r\n",
      "17m         Normal    RegisteredNode               Node         Node aks-nodepool1-36721700-0 event: Registered Node aks-nodepool1-36721700-0 in Controller\r\n",
      "17m         Normal    Starting                     Node         Starting kube-proxy.\r\n",
      "22m         Normal    NodeHasSufficientDisk        Node         Node aks-nodepool1-36721700-1 status is now: NodeHasSufficientDisk\r\n",
      "22m         Normal    NodeHasSufficientMemory      Node         Node aks-nodepool1-36721700-1 status is now: NodeHasSufficientMemory\r\n",
      "22m         Normal    NodeHasNoDiskPressure        Node         Node aks-nodepool1-36721700-1 status is now: NodeHasNoDiskPressure\r\n",
      "23m         Normal    NodeAllocatableEnforced      Node         Updated Node Allocatable limit across pods\r\n",
      "18m         Normal    RegisteredNode               Node         Node aks-nodepool1-36721700-1 event: Registered Node aks-nodepool1-36721700-1 in Controller\r\n",
      "16m         Normal    Starting                     Node         Starting kube-proxy.\r\n",
      "22m         Normal    NodeHasSufficientDisk        Node         Node aks-nodepool1-36721700-2 status is now: NodeHasSufficientDisk\r\n",
      "22m         Normal    NodeHasSufficientMemory      Node         Node aks-nodepool1-36721700-2 status is now: NodeHasSufficientMemory\r\n",
      "22m         Normal    NodeHasNoDiskPressure        Node         Node aks-nodepool1-36721700-2 status is now: NodeHasNoDiskPressure\r\n",
      "22m         Normal    NodeAllocatableEnforced      Node         Updated Node Allocatable limit across pods\r\n",
      "17m         Normal    RegisteredNode               Node         Node aks-nodepool1-36721700-2 event: Registered Node aks-nodepool1-36721700-2 in Controller\r\n",
      "17m         Normal    Starting                     Node         Starting kube-proxy.\r\n",
      "22m         Normal    NodeHasSufficientDisk        Node         Node aks-nodepool1-36721700-3 status is now: NodeHasSufficientDisk\r\n",
      "22m         Normal    NodeHasSufficientMemory      Node         Node aks-nodepool1-36721700-3 status is now: NodeHasSufficientMemory\r\n",
      "22m         Normal    NodeHasNoDiskPressure        Node         Node aks-nodepool1-36721700-3 status is now: NodeHasNoDiskPressure\r\n",
      "22m         Normal    NodeAllocatableEnforced      Node         Updated Node Allocatable limit across pods\r\n",
      "17m         Normal    RegisteredNode               Node         Node aks-nodepool1-36721700-3 event: Registered Node aks-nodepool1-36721700-3 in Controller\r\n",
      "17m         Warning   FailedToCreateRoute          Node         Could not create route 7e9da4db-ea86-11e8-8b79-76f6a485e594 10.244.3.0/24 for node aks-nodepool1-36721700-3 after 121.289458ms: network.RoutesClient#CreateOrUpdate: Failure responding to request: StatusCode=429 -- Original Error: autorest/azure: Service returned an error. Status=429 Code=\"RetryableError\" Message=\"A retryable error occurred.\" Details=[{\"code\":\"RetryableErrorDueToAnotherOperation\",\"message\":\"Operation PutRouteOperation (5e91f46e-8825-41b2-a537-96f2c8e65a6d) is updating resource /subscriptions/f973e87c-e4b6-44f1-95ea-2f146d41c844/resourceGroups/MC_exampleAKS_exampleAKS_southeastasia/providers/Microsoft.Network/routeTables/aks-agentpool-36721700-routetable. The call can be retried in 11 seconds.\"}]\r\n",
      "17m         Warning   FailedToCreateRoute          Node         Could not create route 7e9da4db-ea86-11e8-8b79-76f6a485e594 10.244.3.0/24 for node aks-nodepool1-36721700-3 after 55.490286ms: network.RouteTablesClient#Get: Failure responding to request: StatusCode=403 -- Original Error: autorest/azure: Service returned an error. Status=403 Code=\"AuthorizationFailed\" Message=\"The client 'fad3da14-017c-4b82-8bf0-c0d7ed487d1d' with object id 'fad3da14-017c-4b82-8bf0-c0d7ed487d1d' does not have authorization to perform action 'Microsoft.Network/routeTables/read' over scope '/subscriptions/f973e87c-e4b6-44f1-95ea-2f146d41c844/resourceGroups/MC_exampleAKS_exampleAKS_southeastasia/providers/Microsoft.Network/routeTables/aks-agentpool-36721700-routetable'.\"\r\n",
      "16m         Normal    Starting                     Node         Starting kube-proxy.\r\n",
      "22m         Normal    NodeHasSufficientDisk        Node         Node aks-nodepool1-36721700-4 status is now: NodeHasSufficientDisk\r\n",
      "22m         Normal    NodeHasSufficientMemory      Node         Node aks-nodepool1-36721700-4 status is now: NodeHasSufficientMemory\r\n",
      "22m         Normal    NodeHasNoDiskPressure        Node         Node aks-nodepool1-36721700-4 status is now: NodeHasNoDiskPressure\r\n",
      "22m         Normal    NodeAllocatableEnforced      Node         Updated Node Allocatable limit across pods\r\n",
      "17m         Normal    RegisteredNode               Node         Node aks-nodepool1-36721700-4 event: Registered Node aks-nodepool1-36721700-4 in Controller\r\n",
      "16m         Normal    Starting                     Node         Starting kube-proxy.\r\n",
      "19s         Normal    Scheduled                    Pod          Successfully assigned azure-ml-b5f8f9478-btsj6 to aks-nodepool1-36721700-1\r\n",
      "19s         Normal    SuccessfulMountVolume        Pod          MountVolume.SetUp succeeded for volume \"default-token-5mmfs\"\r\n",
      "18s         Normal    Pulling                      Pod          pulling image \"kwarodom/mlaksdep\"\r\n",
      "19s         Normal    Scheduled                    Pod          Successfully assigned azure-ml-b5f8f9478-lp5cp to aks-nodepool1-36721700-2\r\n",
      "19s         Normal    SuccessfulMountVolume        Pod          MountVolume.SetUp succeeded for volume \"default-token-5mmfs\"\r\n",
      "18s         Normal    Pulling                      Pod          pulling image \"kwarodom/mlaksdep\"\r\n",
      "19s         Normal    SuccessfulCreate             ReplicaSet   Created pod: azure-ml-b5f8f9478-lp5cp\r\n",
      "19s         Normal    SuccessfulCreate             ReplicaSet   Created pod: azure-ml-b5f8f9478-btsj6\r\n",
      "19s         Normal    ScalingReplicaSet            Deployment   Scaled up replica set azure-ml-b5f8f9478 to 2\r\n",
      "19s         Normal    EnsuringLoadBalancer         Service      Ensuring load balancer\r\n",
      "24m         Warning   CreatingLoadBalancerFailed   Service      Error creating load balancer (will retry): error getting LB for service default/kubernetes: network.LoadBalancersClient#List: Failure responding to request: StatusCode=403 -- Original Error: autorest/azure: Service returned an error. Status=403 Code=\"AuthorizationFailed\" Message=\"The client 'fad3da14-017c-4b82-8bf0-c0d7ed487d1d' with object id 'fad3da14-017c-4b82-8bf0-c0d7ed487d1d' does not have authorization to perform action 'Microsoft.Network/loadBalancers/read' over scope '/subscriptions/f973e87c-e4b6-44f1-95ea-2f146d41c844/resourceGroups/MC_exampleAKS_exampleAKS_southeastasia/providers/Microsoft.Network'.\"\r\n"
     ]
    }
   ],
   "source": [
    "!sudo kubectl get events"
   ]
  },
  {
   "cell_type": "markdown",
   "metadata": {},
   "source": [
    "Check the logs for the first application pod."
   ]
  },
  {
   "cell_type": "code",
   "execution_count": 22,
   "metadata": {},
   "outputs": [],
   "source": [
    "pod_json = !sudo kubectl get pods -o json\n",
    "pod_dict = json.loads(''.join(pod_json))"
   ]
  },
  {
   "cell_type": "code",
   "execution_count": 23,
   "metadata": {},
   "outputs": [
    {
     "name": "stdout",
     "output_type": "stream",
     "text": [
      "Error from server (BadRequest): container \"azure-ml\" in pod \"azure-ml-b5f8f9478-btsj6\" is waiting to start: ContainerCreating\r\n"
     ]
    }
   ],
   "source": [
    "!sudo kubectl logs {pod_dict['items'][0]['metadata']['name']}"
   ]
  },
  {
   "cell_type": "code",
   "execution_count": null,
   "metadata": {},
   "outputs": [],
   "source": [
    "!kubectl get deployment"
   ]
  },
  {
   "cell_type": "markdown",
   "metadata": {},
   "source": [
    "It can take a few minutes for the service to populate the EXTERNAL-IP field below. This will be the IP you use to call the service. You can also specify an IP to use, please see the AKS documentation for further details."
   ]
  },
  {
   "cell_type": "code",
   "execution_count": null,
   "metadata": {},
   "outputs": [],
   "source": [
    "!kubectl get service azure-ml"
   ]
  },
  {
   "cell_type": "markdown",
   "metadata": {},
   "source": [
    "# Scaling"
   ]
  },
  {
   "cell_type": "markdown",
   "metadata": {},
   "source": [
    "In this part, we scale the number of pods to make sure we fully utilize the AKS cluster."
   ]
  },
  {
   "cell_type": "code",
   "execution_count": null,
   "metadata": {},
   "outputs": [],
   "source": [
    "!kubectl scale --current-replicas=2 --replicas=35 deployment/azure-ml"
   ]
  },
  {
   "cell_type": "markdown",
   "metadata": {},
   "source": [
    "It can take a couple of minutes for all replicas to be running."
   ]
  },
  {
   "cell_type": "code",
   "execution_count": null,
   "metadata": {
    "scrolled": true
   },
   "outputs": [],
   "source": [
    "!kubectl get pods --all-namespaces"
   ]
  },
  {
   "cell_type": "code",
   "execution_count": null,
   "metadata": {
    "scrolled": true
   },
   "outputs": [],
   "source": [
    "!kubectl get deployment"
   ]
  },
  {
   "cell_type": "markdown",
   "metadata": {},
   "source": [
    "Next, we will [test our web application deployed on AKS](06_Test_WebApp.ipynb).\n",
    "\n",
    "Once, you are done with all the notebooks of the tutorial, you can use the instructions in the [last notebook](09_Tear_Down.ipynb) to tear down the cluster."
   ]
  }
 ],
 "metadata": {
  "kernelspec": {
   "display_name": "Python [conda env:MLAKSDeployment]",
   "language": "python",
   "name": "conda-env-MLAKSDeployment-py"
  },
  "language_info": {
   "codemirror_mode": {
    "name": "ipython",
    "version": 3
   },
   "file_extension": ".py",
   "mimetype": "text/x-python",
   "name": "python",
   "nbconvert_exporter": "python",
   "pygments_lexer": "ipython3",
   "version": "3.5.5"
  }
 },
 "nbformat": 4,
 "nbformat_minor": 2
}
